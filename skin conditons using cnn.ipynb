{
 "cells": [
  {
   "cell_type": "code",
   "execution_count": 1,
   "metadata": {
    "execution": {
     "iopub.execute_input": "2021-05-26T13:32:00.184477Z",
     "iopub.status.busy": "2021-05-26T13:32:00.184072Z",
     "iopub.status.idle": "2021-05-26T13:32:00.191396Z",
     "shell.execute_reply": "2021-05-26T13:32:00.190497Z",
     "shell.execute_reply.started": "2021-05-26T13:32:00.184419Z"
    },
    "trusted": true
   },
   "outputs": [],
   "source": [
    "from keras.layers import Input, Lambda, Dense, Flatten\n",
    "from keras.models import Model\n",
    "from keras.applications.vgg16 import VGG16\n",
    "from keras.applications.vgg16 import preprocess_input\n",
    "from keras.preprocessing import image\n",
    "from tensorflow.keras.preprocessing.image import ImageDataGenerator\n",
    "from keras.models import Sequential\n",
    "import numpy as np\n",
    "from glob import glob\n",
    "import matplotlib.pyplot as plt"
   ]
  },
  {
   "cell_type": "code",
   "execution_count": 2,
   "metadata": {
    "execution": {
     "iopub.execute_input": "2021-05-26T13:32:00.312658Z",
     "iopub.status.busy": "2021-05-26T13:32:00.312363Z",
     "iopub.status.idle": "2021-05-26T13:32:00.316624Z",
     "shell.execute_reply": "2021-05-26T13:32:00.315700Z",
     "shell.execute_reply.started": "2021-05-26T13:32:00.312631Z"
    },
    "trusted": true
   },
   "outputs": [],
   "source": [
    "IMAGE_SIZE = [224, 224]"
   ]
  },
  {
   "cell_type": "code",
   "execution_count": 3,
   "metadata": {
    "execution": {
     "iopub.execute_input": "2021-05-26T13:32:00.445258Z",
     "iopub.status.busy": "2021-05-26T13:32:00.444958Z",
     "iopub.status.idle": "2021-05-26T13:32:00.449414Z",
     "shell.execute_reply": "2021-05-26T13:32:00.448323Z",
     "shell.execute_reply.started": "2021-05-26T13:32:00.445228Z"
    },
    "trusted": true
   },
   "outputs": [],
   "source": [
    "train_directory='C:/Users/DELL\\Desktop/Main code/FlowerClassifier-master/Skin_Conditions/train/'\n",
    "test_directory='C:/Users/DELL\\Desktop/Main code/FlowerClassifier-master/Skin_Conditions/test/'\n",
    "val_directory='C:/Users/DELL\\Desktop/Main code/FlowerClassifier-master/Skin_Conditions/valid'"
   ]
  },
  {
   "cell_type": "code",
   "execution_count": 4,
   "metadata": {
    "execution": {
     "iopub.execute_input": "2021-05-26T13:32:00.561995Z",
     "iopub.status.busy": "2021-05-26T13:32:00.561708Z",
     "iopub.status.idle": "2021-05-26T13:32:01.698164Z",
     "shell.execute_reply": "2021-05-26T13:32:01.697381Z",
     "shell.execute_reply.started": "2021-05-26T13:32:00.561967Z"
    },
    "trusted": true
   },
   "outputs": [],
   "source": [
    "# add preprocessing layer to the front of VGG\n",
    "vgg = VGG16(input_shape=IMAGE_SIZE + [3], weights='imagenet', include_top=False)\n",
    "\n",
    "# don't train existing weights\n",
    "for layer in vgg.layers:\n",
    "  layer.trainable = False"
   ]
  },
  {
   "cell_type": "code",
   "execution_count": 5,
   "metadata": {
    "execution": {
     "iopub.execute_input": "2021-05-26T13:32:01.701359Z",
     "iopub.status.busy": "2021-05-26T13:32:01.700836Z",
     "iopub.status.idle": "2021-05-26T13:32:01.711256Z",
     "shell.execute_reply": "2021-05-26T13:32:01.710289Z",
     "shell.execute_reply.started": "2021-05-26T13:32:01.701318Z"
    },
    "trusted": true
   },
   "outputs": [],
   "source": [
    "  # useful for getting number of classes\n",
    "folders = glob('C:/Users/DELL\\Desktop/Main code/FlowerClassifier-master/Skin_Conditions/train/*')\n",
    "len(folders)"
   ]
  },
  {
   "cell_type": "code",
   "execution_count": 6,
   "metadata": {
    "execution": {
     "iopub.execute_input": "2021-05-26T13:32:01.713556Z",
     "iopub.status.busy": "2021-05-26T13:32:01.713189Z",
     "iopub.status.idle": "2021-05-26T13:32:01.730224Z",
     "shell.execute_reply": "2021-05-26T13:32:01.729472Z",
     "shell.execute_reply.started": "2021-05-26T13:32:01.713517Z"
    },
    "trusted": true
   },
   "outputs": [],
   "source": [
    "# our layers - you can add more if you want\n",
    "x = Flatten()(vgg.output)\n",
    "# x = Dense(1000, activation='relu')(x)\n",
    "prediction = Dense(len(folders), activation='softmax')(x)"
   ]
  },
  {
   "cell_type": "code",
   "execution_count": 10,
   "metadata": {
    "execution": {
     "iopub.execute_input": "2021-05-26T13:32:01.733185Z",
     "iopub.status.busy": "2021-05-26T13:32:01.732946Z",
     "iopub.status.idle": "2021-05-26T13:32:01.756522Z",
     "shell.execute_reply": "2021-05-26T13:32:01.755692Z",
     "shell.execute_reply.started": "2021-05-26T13:32:01.733161Z"
    },
    "trusted": true
   },
   "outputs": [],
   "source": [
    "# create a model object\n",
    "model = Model(inputs=vgg.input, outputs=prediction)\n",
    "\n",
    "# view the structure of the model\n",
    "model.summary()"
   ]
  },
  {
   "cell_type": "code",
   "execution_count": 11,
   "metadata": {
    "execution": {
     "iopub.execute_input": "2021-05-26T13:32:01.761330Z",
     "iopub.status.busy": "2021-05-26T13:32:01.761093Z",
     "iopub.status.idle": "2021-05-26T13:32:01.775313Z",
     "shell.execute_reply": "2021-05-26T13:32:01.774260Z",
     "shell.execute_reply.started": "2021-05-26T13:32:01.761301Z"
    },
    "trusted": true
   },
   "outputs": [],
   "source": [
    "model.compile(\n",
    "  loss='categorical_crossentropy',\n",
    "  optimizer='adam',\n",
    "  metrics=['accuracy']\n",
    ")"
   ]
  },
  {
   "cell_type": "code",
   "execution_count": 13,
   "metadata": {
    "execution": {
     "iopub.execute_input": "2021-05-26T13:32:01.777072Z",
     "iopub.status.busy": "2021-05-26T13:32:01.776648Z",
     "iopub.status.idle": "2021-05-26T13:32:04.433665Z",
     "shell.execute_reply": "2021-05-26T13:32:04.432336Z",
     "shell.execute_reply.started": "2021-05-26T13:32:01.777034Z"
    },
    "trusted": true
   },
   "outputs": [],
   "source": [
    "from tensorflow.keras.preprocessing.image import ImageDataGenerator\n",
    "\n",
    "train_datagen = ImageDataGenerator(rescale = 1./255,\n",
    "                                   shear_range = 0.2,\n",
    "                                   zoom_range = 0.2,\n",
    "                                   horizontal_flip = True)\n",
    "\n",
    "test_datagen = ImageDataGenerator(rescale = 1./255)\n",
    "\n",
    "training_set = train_datagen.flow_from_directory(train_directory,\n",
    "                                                 target_size = (224, 224),\n",
    "                                                 batch_size = 32,\n",
    "                                                 class_mode = 'categorical')\n",
    "\n",
    "test_set = test_datagen.flow_from_directory(test_directory,\n",
    "                                            target_size = (224, 224),\n",
    "                                            batch_size = 32,\n",
    "                                            class_mode = 'categorical')"
   ]
  },
  {
   "cell_type": "code",
   "execution_count": 14,
   "metadata": {
    "execution": {
     "iopub.execute_input": "2021-05-26T13:32:04.435666Z",
     "iopub.status.busy": "2021-05-26T13:32:04.435390Z",
     "iopub.status.idle": "2021-05-26T13:32:04.444784Z",
     "shell.execute_reply": "2021-05-26T13:32:04.444037Z",
     "shell.execute_reply.started": "2021-05-26T13:32:04.435640Z"
    },
    "trusted": true
   },
   "outputs": [],
   "source": [
    "print(len(training_set))\n",
    "print(len(test_set))"
   ]
  },
  {
   "cell_type": "code",
   "execution_count": null,
   "metadata": {
    "execution": {
     "iopub.execute_input": "2021-05-26T13:32:04.448406Z",
     "iopub.status.busy": "2021-05-26T13:32:04.448135Z",
     "iopub.status.idle": "2021-05-26T14:11:57.282267Z",
     "shell.execute_reply": "2021-05-26T14:11:57.281413Z",
     "shell.execute_reply.started": "2021-05-26T13:32:04.448379Z"
    },
    "trusted": true
   },
   "outputs": [],
   "source": [
    "model.fit(\n",
    "    training_set,\n",
    "    valid_set=validation_dataset,\n",
    "    epochs=10\n",
    ")\n"
   ]
  },
  {
   "cell_type": "code",
   "execution_count": 14,
   "metadata": {
    "execution": {
     "iopub.execute_input": "2021-05-26T14:11:57.285323Z",
     "iopub.status.busy": "2021-05-26T14:11:57.284949Z",
     "iopub.status.idle": "2021-05-26T14:11:57.458428Z",
     "shell.execute_reply": "2021-05-26T14:11:57.457551Z",
     "shell.execute_reply.started": "2021-05-26T14:11:57.285281Z"
    },
    "trusted": true
   },
   "outputs": [],
   "source": [
    "# loss\n",
    "plt.plot(r.history['loss'], label='train loss')\n",
    "plt.plot(r.history['val_loss'], label='val loss')\n",
    "plt.legend()\n",
    "plt.show()"
   ]
  },
  {
   "cell_type": "code",
   "execution_count": 15,
   "metadata": {
    "execution": {
     "iopub.execute_input": "2021-05-26T14:11:57.461011Z",
     "iopub.status.busy": "2021-05-26T14:11:57.460645Z",
     "iopub.status.idle": "2021-05-26T14:11:57.603986Z",
     "shell.execute_reply": "2021-05-26T14:11:57.603034Z",
     "shell.execute_reply.started": "2021-05-26T14:11:57.460972Z"
    },
    "trusted": true
   },
   "outputs": [],
   "source": [
    "# accuracies\n",
    "plt.plot(r.history['accuracy'], label='train acc')\n",
    "plt.plot(r.history['val_accuracy'], label='val acc')\n",
    "plt.legend()\n",
    "plt.show()"
   ]
  },
  {
   "cell_type": "code",
   "execution_count": 16,
   "metadata": {
    "execution": {
     "iopub.execute_input": "2021-05-26T14:11:57.606129Z",
     "iopub.status.busy": "2021-05-26T14:11:57.605644Z",
     "iopub.status.idle": "2021-05-26T14:11:57.847809Z",
     "shell.execute_reply": "2021-05-26T14:11:57.847009Z",
     "shell.execute_reply.started": "2021-05-26T14:11:57.606088Z"
    },
    "trusted": true
   },
   "outputs": [],
   "source": [
    "model.save('BC.h5')"
   ]
  },
  {
   "cell_type": "code",
   "execution_count": 25,
   "metadata": {
    "execution": {
     "iopub.execute_input": "2021-05-26T14:13:52.680658Z",
     "iopub.status.busy": "2021-05-26T14:13:52.680310Z",
     "iopub.status.idle": "2021-05-26T14:13:52.869997Z",
     "shell.execute_reply": "2021-05-26T14:13:52.869245Z",
     "shell.execute_reply.started": "2021-05-26T14:13:52.680629Z"
    },
    "trusted": true
   },
   "outputs": [],
   "source": [
    "from keras.models import load_model\n",
    "from keras.preprocessing.image import load_img,img_to_array\n",
    "\n",
    "model1 = load_model('./BC.h5',compile=False)  "
   ]
  },
  {
   "cell_type": "code",
   "execution_count": 26,
   "metadata": {
    "execution": {
     "iopub.execute_input": "2021-05-26T14:13:52.889997Z",
     "iopub.status.busy": "2021-05-26T14:13:52.889729Z",
     "iopub.status.idle": "2021-05-26T14:13:52.894911Z",
     "shell.execute_reply": "2021-05-26T14:13:52.893804Z",
     "shell.execute_reply.started": "2021-05-26T14:13:52.889971Z"
    },
    "trusted": true
   },
   "outputs": [],
   "source": [
    "lab = training_set.class_indices\n",
    "lab={k:v for v,k in lab.items()}"
   ]
  },
  {
   "cell_type": "code",
   "execution_count": 27,
   "metadata": {
    "execution": {
     "iopub.execute_input": "2021-05-26T14:13:53.139284Z",
     "iopub.status.busy": "2021-05-26T14:13:53.138953Z",
     "iopub.status.idle": "2021-05-26T14:13:53.146092Z",
     "shell.execute_reply": "2021-05-26T14:13:53.144934Z",
     "shell.execute_reply.started": "2021-05-26T14:13:53.139253Z"
    },
    "trusted": true
   },
   "outputs": [],
   "source": [
    "def output(location):\n",
    "    img=load_img(location,target_size=(224,224,3))\n",
    "    img=img_to_array(img)\n",
    "    img=img/255\n",
    "    img=np.expand_dims(img,[0])\n",
    "    answer=model1.predict(img)\n",
    "    y_class = answer.argmax(axis=-1)\n",
    "    y = \" \".join(str(x) for x in y_class)\n",
    "    y = int(y)\n",
    "    res = lab[y]\n",
    "    return res"
   ]
  },
  {
   "cell_type": "code",
   "execution_count": 28,
   "metadata": {
    "execution": {
     "iopub.execute_input": "2021-05-26T14:13:53.362985Z",
     "iopub.status.busy": "2021-05-26T14:13:53.362666Z",
     "iopub.status.idle": "2021-05-26T14:13:53.873694Z",
     "shell.execute_reply": "2021-05-26T14:13:53.872829Z",
     "shell.execute_reply.started": "2021-05-26T14:13:53.362955Z"
    },
    "trusted": true
   },
   "outputs": [],
   "source": [
    "img='../input/100-bird-species/valid/BARN OWL/1.jpg'\n",
    "pic=load_img('../input/100-bird-species/valid/BARN OWL/1.jpg',target_size=(224,224,3))\n",
    "plt.imshow(pic)\n",
    "output(img)"
   ]
  },
  {
   "cell_type": "code",
   "execution_count": 29,
   "metadata": {
    "execution": {
     "iopub.execute_input": "2021-05-26T14:13:53.875689Z",
     "iopub.status.busy": "2021-05-26T14:13:53.875311Z",
     "iopub.status.idle": "2021-05-26T14:13:53.880523Z",
     "shell.execute_reply": "2021-05-26T14:13:53.879632Z",
     "shell.execute_reply.started": "2021-05-26T14:13:53.875650Z"
    },
    "trusted": true
   },
   "outputs": [],
   "source": [
    "import tensorflow as tf\n",
    "import keras as k\n",
    "print(tf.__version__)\n",
    "print(k.__version__)"
   ]
  },
  {
   "cell_type": "code",
   "execution_count": 2,
   "metadata": {},
   "outputs": [],
   "source": [
    "import matplotlib.pyplot as plt\n",
    "from sklearn.datasets import load_breast_cancer\n",
    "from sklearn.model_selection import train_test_split\n",
    "from sklearn.linear_model import LogisticRegression\n",
    "from sklearn.metrics import roc_curve, auc"
   ]
  },
  {
   "cell_type": "code",
   "execution_count": 3,
   "metadata": {},
   "outputs": [],
   "source": [
    "data = load_breast_cancer()\n",
    "X = data.data\n",
    "y = data.target # Split the data into features (X) and target variable (y)\n",
    "X_train, X_test, y_train, y_test = train_test_split(X, y, test_size=0.25, random_state=42)"
   ]
  },
  {
   "cell_type": "code",
   "execution_count": 4,
   "metadata": {},
   "outputs": [],
   "source": [
    "# Train a logistic regression model\n",
    "model = LogisticRegression() \n",
    "model.fit(X_train, y_train)\n",
    "# Predict probabilities on the test set\n",
    "y_pred_proba = model.predict_proba(X_test)[:, 1] \n"
   ]
  },
  {
   "cell_type": "code",
   "execution_count": 5,
   "metadata": {},
   "outputs": [],
   "source": [
    "# Calculate ROC curve\n",
    "fpr, tpr, thresholds = roc_curve(y_test, y_pred_proba) \n",
    "roc_auc = auc(fpr, tpr)\n",
    "# Plot the ROC curve\n",
    "plt.figure()  \n",
    "plt.plot(fpr, tpr, label='ROC curve (area = %0.2f)' % roc_auc)\n",
    "plt.plot([0, 1], [0, 1], 'k--', label='No Skill')\n",
    "plt.xlim([0.0, 1.0])\n",
    "plt.ylim([0.0, 1.05])\n",
    "plt.xlabel('False Positive Rate')\n",
    "plt.ylabel('True Positive Rate')\n",
    "plt.title('ROC Curve for demantia')\n",
    "plt.legend()\n",
    "plt.show()"
   ]
  }
 ],
 "metadata": {
  "kernelspec": {
   "display_name": "Python 3",
   "language": "python",
   "name": "python3"
  },
  "language_info": {
   "codemirror_mode": {
    "name": "ipython",
    "version": 3
   },
   "file_extension": ".py",
   "mimetype": "text/x-python",
   "name": "python",
   "nbconvert_exporter": "python",
   "pygments_lexer": "ipython3",
   "version": "3.9.12"
  }
 },
 "nbformat": 4,
 "nbformat_minor": 4
}
